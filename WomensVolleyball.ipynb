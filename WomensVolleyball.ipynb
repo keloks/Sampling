{
 "cells": [
  {
   "cell_type": "markdown",
   "id": "7fa96b3d",
   "metadata": {},
   "source": [
    "### Exercici 1\n",
    "\n",
    "Agafa un conjunt de dades de tema esportiu que t'agradi. Realitza un mostreig de les dades generant una mostra aleatòria simple i una mostra sistemàtica."
   ]
  },
  {
   "cell_type": "code",
   "execution_count": 1,
   "id": "a30dd4ff",
   "metadata": {},
   "outputs": [],
   "source": [
    "import pandas as pd\n",
    "import numpy as np\n",
    "import matplotlib.pyplot as plt\n",
    "import scipy as sp\n",
    "import seaborn as sns\n",
    "import sklearn.neighbors as ngb"
   ]
  },
  {
   "cell_type": "markdown",
   "id": "bd8a7bdf",
   "metadata": {},
   "source": [
    "This dataset regroups informations regarding FIVB women's players who participated in various official FIVB competitions.\n",
    "The dataaset contains eight columns that references various characteristics such as the player's height, the player's weight or even the player's position on the volleyball court."
   ]
  },
  {
   "cell_type": "code",
   "execution_count": 2,
   "id": "b18314c9",
   "metadata": {},
   "outputs": [],
   "source": [
    "wVb = pd.read_csv('wVb.csv')\n",
    "wVb.head()\n",
    "wVb.drop('index', axis = 1, inplace = True)\n",
    "wVb.duplicated().sum()\n",
    "wVb.drop_duplicates(inplace = True)"
   ]
  },
  {
   "cell_type": "code",
   "execution_count": 3,
   "id": "4fd3595c",
   "metadata": {},
   "outputs": [
    {
     "data": {
      "text/plain": [
       "name               0\n",
       "date_of_birth      0\n",
       "height             0\n",
       "weight             0\n",
       "spike              0\n",
       "block              0\n",
       "position_number    0\n",
       "country            0\n",
       "dtype: int64"
      ]
     },
     "execution_count": 3,
     "metadata": {},
     "output_type": "execute_result"
    }
   ],
   "source": [
    "wVb.isna().sum()"
   ]
  },
  {
   "cell_type": "markdown",
   "id": "b728837a",
   "metadata": {},
   "source": [
    "To better visualize the position of each player, we change the numeric value (1,2,3,4,6) to ('setter', 'wing', 'middle', 'opposite', 'libero') respectively. "
   ]
  },
  {
   "cell_type": "code",
   "execution_count": 4,
   "id": "950082b7",
   "metadata": {},
   "outputs": [
    {
     "data": {
      "text/plain": [
       "array([3, 1, 2, 6, 4], dtype=int64)"
      ]
     },
     "execution_count": 4,
     "metadata": {},
     "output_type": "execute_result"
    }
   ],
   "source": [
    "wVb['position_number'].unique()"
   ]
  },
  {
   "cell_type": "code",
   "execution_count": 5,
   "id": "db998f56",
   "metadata": {},
   "outputs": [
    {
     "data": {
      "text/html": [
       "<div>\n",
       "<style scoped>\n",
       "    .dataframe tbody tr th:only-of-type {\n",
       "        vertical-align: middle;\n",
       "    }\n",
       "\n",
       "    .dataframe tbody tr th {\n",
       "        vertical-align: top;\n",
       "    }\n",
       "\n",
       "    .dataframe thead th {\n",
       "        text-align: right;\n",
       "    }\n",
       "</style>\n",
       "<table border=\"1\" class=\"dataframe\">\n",
       "  <thead>\n",
       "    <tr style=\"text-align: right;\">\n",
       "      <th></th>\n",
       "      <th>name</th>\n",
       "      <th>date_of_birth</th>\n",
       "      <th>height</th>\n",
       "      <th>weight</th>\n",
       "      <th>spike</th>\n",
       "      <th>block</th>\n",
       "      <th>position_number</th>\n",
       "      <th>country</th>\n",
       "      <th>position</th>\n",
       "    </tr>\n",
       "  </thead>\n",
       "  <tbody>\n",
       "    <tr>\n",
       "      <th>0</th>\n",
       "      <td>Angelina Lazarenko</td>\n",
       "      <td>13/04/1998</td>\n",
       "      <td>193</td>\n",
       "      <td>80</td>\n",
       "      <td>320</td>\n",
       "      <td>305</td>\n",
       "      <td>3</td>\n",
       "      <td>23</td>\n",
       "      <td>middle</td>\n",
       "    </tr>\n",
       "    <tr>\n",
       "      <th>1</th>\n",
       "      <td>Svetlana Serbina</td>\n",
       "      <td>15/05/1996</td>\n",
       "      <td>182</td>\n",
       "      <td>71</td>\n",
       "      <td>295</td>\n",
       "      <td>284</td>\n",
       "      <td>1</td>\n",
       "      <td>23</td>\n",
       "      <td>setter</td>\n",
       "    </tr>\n",
       "    <tr>\n",
       "      <th>2</th>\n",
       "      <td>Ekaterina Shkurikhina</td>\n",
       "      <td>17/06/1996</td>\n",
       "      <td>190</td>\n",
       "      <td>72</td>\n",
       "      <td>306</td>\n",
       "      <td>296</td>\n",
       "      <td>2</td>\n",
       "      <td>23</td>\n",
       "      <td>wing</td>\n",
       "    </tr>\n",
       "    <tr>\n",
       "      <th>3</th>\n",
       "      <td>Kristina Kurnosova</td>\n",
       "      <td>17/06/1997</td>\n",
       "      <td>176</td>\n",
       "      <td>62</td>\n",
       "      <td>288</td>\n",
       "      <td>278</td>\n",
       "      <td>6</td>\n",
       "      <td>23</td>\n",
       "      <td>libero</td>\n",
       "    </tr>\n",
       "    <tr>\n",
       "      <th>4</th>\n",
       "      <td>Ekaterina Novikova</td>\n",
       "      <td>07/12/1996</td>\n",
       "      <td>181</td>\n",
       "      <td>70</td>\n",
       "      <td>290</td>\n",
       "      <td>275</td>\n",
       "      <td>1</td>\n",
       "      <td>23</td>\n",
       "      <td>setter</td>\n",
       "    </tr>\n",
       "  </tbody>\n",
       "</table>\n",
       "</div>"
      ],
      "text/plain": [
       "                    name date_of_birth  height  weight  spike  block  \\\n",
       "0     Angelina Lazarenko    13/04/1998     193      80    320    305   \n",
       "1       Svetlana Serbina    15/05/1996     182      71    295    284   \n",
       "2  Ekaterina Shkurikhina    17/06/1996     190      72    306    296   \n",
       "3     Kristina Kurnosova    17/06/1997     176      62    288    278   \n",
       "4     Ekaterina Novikova    07/12/1996     181      70    290    275   \n",
       "\n",
       "   position_number  country position  \n",
       "0                3       23   middle  \n",
       "1                1       23   setter  \n",
       "2                2       23     wing  \n",
       "3                6       23   libero  \n",
       "4                1       23   setter  "
      ]
     },
     "execution_count": 5,
     "metadata": {},
     "output_type": "execute_result"
    }
   ],
   "source": [
    "conditions = [wVb['position_number'] == 1,\n",
    "             wVb['position_number'] == 2,\n",
    "             wVb['position_number'] == 3,\n",
    "             wVb['position_number'] == 4,\n",
    "             wVb['position_number'] == 6]\n",
    "\n",
    "newValues = ['setter', 'wing', 'middle', 'opposite', 'libero']\n",
    "\n",
    "wVb['position'] = np.select(conditions, newValues)\n",
    "wVb.head()"
   ]
  },
  {
   "cell_type": "code",
   "execution_count": 6,
   "id": "b69e71f4",
   "metadata": {},
   "outputs": [
    {
     "data": {
      "text/plain": [
       "0"
      ]
     },
     "execution_count": 6,
     "metadata": {},
     "output_type": "execute_result"
    }
   ],
   "source": [
    "wVb['name'].duplicated().sum()"
   ]
  },
  {
   "cell_type": "markdown",
   "id": "d914a274",
   "metadata": {},
   "source": [
    "To make the dataset lighter, date of birth, position_number, country and index will be dropped."
   ]
  },
  {
   "cell_type": "code",
   "execution_count": 7,
   "id": "9eab0341",
   "metadata": {},
   "outputs": [],
   "source": [
    "wVb.drop(['date_of_birth', 'position_number', 'country'], axis = 1, inplace = True)"
   ]
  },
  {
   "cell_type": "code",
   "execution_count": 8,
   "id": "81dbefc2",
   "metadata": {},
   "outputs": [
    {
     "data": {
      "text/html": [
       "<div>\n",
       "<style scoped>\n",
       "    .dataframe tbody tr th:only-of-type {\n",
       "        vertical-align: middle;\n",
       "    }\n",
       "\n",
       "    .dataframe tbody tr th {\n",
       "        vertical-align: top;\n",
       "    }\n",
       "\n",
       "    .dataframe thead th {\n",
       "        text-align: right;\n",
       "    }\n",
       "</style>\n",
       "<table border=\"1\" class=\"dataframe\">\n",
       "  <thead>\n",
       "    <tr style=\"text-align: right;\">\n",
       "      <th></th>\n",
       "      <th>height</th>\n",
       "      <th>weight</th>\n",
       "      <th>spike</th>\n",
       "      <th>block</th>\n",
       "    </tr>\n",
       "  </thead>\n",
       "  <tbody>\n",
       "    <tr>\n",
       "      <th>count</th>\n",
       "      <td>143.00</td>\n",
       "      <td>143.00</td>\n",
       "      <td>143.00</td>\n",
       "      <td>143.00</td>\n",
       "    </tr>\n",
       "    <tr>\n",
       "      <th>mean</th>\n",
       "      <td>180.98</td>\n",
       "      <td>68.71</td>\n",
       "      <td>286.78</td>\n",
       "      <td>275.48</td>\n",
       "    </tr>\n",
       "    <tr>\n",
       "      <th>std</th>\n",
       "      <td>8.26</td>\n",
       "      <td>7.38</td>\n",
       "      <td>35.22</td>\n",
       "      <td>33.44</td>\n",
       "    </tr>\n",
       "    <tr>\n",
       "      <th>min</th>\n",
       "      <td>153.00</td>\n",
       "      <td>52.00</td>\n",
       "      <td>0.00</td>\n",
       "      <td>0.00</td>\n",
       "    </tr>\n",
       "    <tr>\n",
       "      <th>25%</th>\n",
       "      <td>175.50</td>\n",
       "      <td>63.50</td>\n",
       "      <td>285.00</td>\n",
       "      <td>273.00</td>\n",
       "    </tr>\n",
       "    <tr>\n",
       "      <th>50%</th>\n",
       "      <td>182.00</td>\n",
       "      <td>69.00</td>\n",
       "      <td>294.00</td>\n",
       "      <td>283.00</td>\n",
       "    </tr>\n",
       "    <tr>\n",
       "      <th>75%</th>\n",
       "      <td>187.00</td>\n",
       "      <td>73.00</td>\n",
       "      <td>304.00</td>\n",
       "      <td>292.00</td>\n",
       "    </tr>\n",
       "    <tr>\n",
       "      <th>max</th>\n",
       "      <td>199.00</td>\n",
       "      <td>87.00</td>\n",
       "      <td>336.00</td>\n",
       "      <td>310.00</td>\n",
       "    </tr>\n",
       "  </tbody>\n",
       "</table>\n",
       "</div>"
      ],
      "text/plain": [
       "       height  weight   spike   block\n",
       "count  143.00  143.00  143.00  143.00\n",
       "mean   180.98   68.71  286.78  275.48\n",
       "std      8.26    7.38   35.22   33.44\n",
       "min    153.00   52.00    0.00    0.00\n",
       "25%    175.50   63.50  285.00  273.00\n",
       "50%    182.00   69.00  294.00  283.00\n",
       "75%    187.00   73.00  304.00  292.00\n",
       "max    199.00   87.00  336.00  310.00"
      ]
     },
     "execution_count": 8,
     "metadata": {},
     "output_type": "execute_result"
    }
   ],
   "source": [
    "wVb.describe().applymap(lambda x: f\"{x:0.2f}\")"
   ]
  },
  {
   "cell_type": "markdown",
   "id": "3c48c704",
   "metadata": {
    "variables": {
     "wVb.shape[0]": "143"
    }
   },
   "source": [
    "#### Random sampling\n",
    "For the sample size we use the calculator in https://www.qualtrics.com/uk/experience-management/research/determine-sample-size/ which for a population size o {{wVb.shape[0]}}, confidence level of 95% and margin of error 5%, estimates that a sufficient sample size would be 105."
   ]
  },
  {
   "cell_type": "code",
   "execution_count": 9,
   "id": "7cc919c3",
   "metadata": {},
   "outputs": [
    {
     "name": "stdout",
     "output_type": "stream",
     "text": [
      "random sample\n",
      "       height  weight   spike   block\n",
      "count  105.00  105.00  105.00  105.00\n",
      "mean   180.84   69.13  285.80  275.19\n",
      "std      8.06    7.14   37.45   35.66\n",
      "min    153.00   52.00    0.00    0.00\n",
      "25%    176.00   64.00  285.00  274.00\n",
      "50%    182.00   70.00  293.00  284.00\n",
      "75%    186.00   73.00  304.00  292.00\n",
      "max    199.00   87.00  336.00  303.00 \n",
      "\n",
      "population\n",
      "       height  weight   spike   block\n",
      "count  143.00  143.00  143.00  143.00\n",
      "mean   180.98   68.71  286.78  275.48\n",
      "std      8.26    7.38   35.22   33.44\n",
      "min    153.00   52.00    0.00    0.00\n",
      "25%    175.50   63.50  285.00  273.00\n",
      "50%    182.00   69.00  294.00  283.00\n",
      "75%    187.00   73.00  304.00  292.00\n",
      "max    199.00   87.00  336.00  310.00\n"
     ]
    }
   ],
   "source": [
    "randWVb = wVb.sample(n = 105)\n",
    "print('random sample')\n",
    "print(randWVb.describe().applymap(lambda x: f'{x:.2f}'), '\\n')\n",
    "print('population')\n",
    "print(wVb.describe().applymap(lambda x: f\"{x:0.2f}\"))"
   ]
  },
  {
   "cell_type": "markdown",
   "id": "95c5f25b",
   "metadata": {},
   "source": [
    "It can be seen that the statistical indicators are more or less the same, and are within our margin of error of 5% in most cases."
   ]
  },
  {
   "cell_type": "markdown",
   "id": "52ec1640",
   "metadata": {},
   "source": [
    "#### Systematic sampling\n",
    "In our case, we must build the systematic sample with k = 2, which leads to a reduced sample. We could perform some oversampling technique."
   ]
  },
  {
   "cell_type": "code",
   "execution_count": 39,
   "id": "cf911c1c",
   "metadata": {},
   "outputs": [],
   "source": [
    "def sysSampling(data, sampleSize):\n",
    "    \n",
    "    k1 = int(np.ceil(data.shape[0]/sampleSize))\n",
    "    start = np.random.randint(0,10)\n",
    "    firstSample = data.iloc[start::k,:]\n",
    "    actualSampleSize = firstSample.shape[0]\n",
    "    \n",
    "    #Resampling if the actualSampleSize is less than 75% of the desired size\n",
    "    if actualSampleSize < (sampleSize*0.75):\n",
    "        rest = pd.concat([data, firstSample]).drop_duplicates(keep = False)\n",
    "        start2 = np.random.randint(0,10)\n",
    "        secondSampleSize = sampleSize - actualSampleSize\n",
    "        k2 = int(np.ceil(rest.shape[0]/secondSampleSize))\n",
    "        \n",
    "        secondSample = rest.iloc[start2::k2,:]\n",
    "        sample = pd.concat([firstSample, secondSample])\n",
    "    else:\n",
    "        sample = firstSample\n",
    "    \n",
    "    return sample\n"
   ]
  },
  {
   "cell_type": "code",
   "execution_count": 40,
   "id": "30dfa9bf",
   "metadata": {},
   "outputs": [
    {
     "data": {
      "text/plain": [
       "92"
      ]
     },
     "execution_count": 40,
     "metadata": {},
     "output_type": "execute_result"
    }
   ],
   "source": [
    "sampleSize = 105 #this is approximate\n",
    "\n",
    "sysWVb = sysSampling(wVb, sampleSize)\n",
    "sysWVb.shape[0]"
   ]
  },
  {
   "cell_type": "code",
   "execution_count": 41,
   "id": "2f6c5ce7",
   "metadata": {},
   "outputs": [
    {
     "name": "stdout",
     "output_type": "stream",
     "text": [
      "Systematic sample\n",
      "       height weight   spike   block\n",
      "count   92.00  92.00   92.00   92.00\n",
      "mean   180.26  68.10  284.70  273.76\n",
      "std      8.51   7.80   39.60   37.51\n",
      "min    153.00  52.00    0.00    0.00\n",
      "25%    175.00  62.75  280.00  272.00\n",
      "50%    181.00  69.00  292.50  283.00\n",
      "75%    186.00  72.25  304.00  290.00\n",
      "max    199.00  87.00  336.00  310.00\n",
      "population\n",
      "       height  weight   spike   block\n",
      "count  143.00  143.00  143.00  143.00\n",
      "mean   180.98   68.71  286.78  275.48\n",
      "std      8.26    7.38   35.22   33.44\n",
      "min    153.00   52.00    0.00    0.00\n",
      "25%    175.50   63.50  285.00  273.00\n",
      "50%    182.00   69.00  294.00  283.00\n",
      "75%    187.00   73.00  304.00  292.00\n",
      "max    199.00   87.00  336.00  310.00\n"
     ]
    }
   ],
   "source": [
    "print('Systematic sample')\n",
    "print(sysWVb.describe().applymap(lambda x: f'{x:.2f}'))\n",
    "print('population')\n",
    "print(wVb.describe().applymap(lambda x: f\"{x:0.2f}\"))"
   ]
  },
  {
   "cell_type": "markdown",
   "id": "bcd0b629",
   "metadata": {},
   "source": [
    "### Exercici 2\n",
    "\n",
    "Continua amb el conjunt de dades de tema esportiu i genera una mostra estratificada i una mostra \n",
    "utilitzant SMOTE (Synthetic Minority Oversampling Technique)."
   ]
  },
  {
   "cell_type": "code",
   "execution_count": 42,
   "id": "ea2e46c9",
   "metadata": {},
   "outputs": [],
   "source": [
    "strats = wVb.groupby('position')"
   ]
  },
  {
   "cell_type": "markdown",
   "id": "db5721b3",
   "metadata": {},
   "source": [
    "#### Stratified disportionate\n",
    "From each stratum pick a random sample. The size of each random sample has no relation with the size of the stratum. In our case, we simply made samples of the same size for each stratum."
   ]
  },
  {
   "cell_type": "code",
   "execution_count": 43,
   "id": "3d17a861",
   "metadata": {},
   "outputs": [],
   "source": [
    "def stratSample(df, col, size, prop): #prop is a boolean\n",
    "    #Create a groupby object\n",
    "    strats = df.groupby(col)\n",
    "    auxList = []\n",
    "    #Calculate the size of each strat, for each mode of the func\n",
    "    if prop:\n",
    "        #If we want proportionate strata, we need to match the portion of the population with the sample size.\n",
    "        rPropSampleSize = np.ceil(size*strats.size()/df.shape[0])\n",
    "        propSampleSize = list([int(i) for i in rPropSampleSize])\n",
    "        #If prop, a list of sizes is constructed, so we need a count to indicate which samplesize we want. \n",
    "        for count, (name, group) in enumerate(strats):\n",
    "            #Append the dataframes to a list\n",
    "            auxList.append(group.sample(propSampleSize[count]))\n",
    "    else:\n",
    "        #With disproportionate strata, we assign a single size for each sample.\n",
    "        disPropSampleSize = int(np.ceil(size/strats.ngroups))\n",
    "        #Append a random sample of each group in a list\n",
    "        for name, group in strats:\n",
    "            if group.shape[0] < disPropSampleSize:\n",
    "                auxList.append(group) #If the stratum size is smaller than the sample size, take the whole stratum\n",
    "            else:\n",
    "                auxList.append(group.sample(disPropSampleSize))\n",
    "    #Concatenate the dataframes stored in the list\n",
    "    return pd.concat(auxList, ignore_index = True)    "
   ]
  },
  {
   "cell_type": "code",
   "execution_count": 44,
   "id": "040711c8",
   "metadata": {},
   "outputs": [
    {
     "data": {
      "text/html": [
       "<div>\n",
       "<style scoped>\n",
       "    .dataframe tbody tr th:only-of-type {\n",
       "        vertical-align: middle;\n",
       "    }\n",
       "\n",
       "    .dataframe tbody tr th {\n",
       "        vertical-align: top;\n",
       "    }\n",
       "\n",
       "    .dataframe thead th {\n",
       "        text-align: right;\n",
       "    }\n",
       "</style>\n",
       "<table border=\"1\" class=\"dataframe\">\n",
       "  <thead>\n",
       "    <tr style=\"text-align: right;\">\n",
       "      <th></th>\n",
       "      <th>name</th>\n",
       "      <th>height</th>\n",
       "      <th>weight</th>\n",
       "      <th>spike</th>\n",
       "      <th>block</th>\n",
       "      <th>position</th>\n",
       "    </tr>\n",
       "  </thead>\n",
       "  <tbody>\n",
       "    <tr>\n",
       "      <th>0</th>\n",
       "      <td>Kristina Kurnosova</td>\n",
       "      <td>176</td>\n",
       "      <td>62</td>\n",
       "      <td>288</td>\n",
       "      <td>278</td>\n",
       "      <td>libero</td>\n",
       "    </tr>\n",
       "    <tr>\n",
       "      <th>10</th>\n",
       "      <td>Yomira Villacorta</td>\n",
       "      <td>164</td>\n",
       "      <td>61</td>\n",
       "      <td>265</td>\n",
       "      <td>250</td>\n",
       "      <td>libero</td>\n",
       "    </tr>\n",
       "    <tr>\n",
       "      <th>20</th>\n",
       "      <td>Jovana Kocic</td>\n",
       "      <td>190</td>\n",
       "      <td>85</td>\n",
       "      <td>290</td>\n",
       "      <td>285</td>\n",
       "      <td>middle</td>\n",
       "    </tr>\n",
       "    <tr>\n",
       "      <th>30</th>\n",
       "      <td>Elitsa Barakova</td>\n",
       "      <td>184</td>\n",
       "      <td>60</td>\n",
       "      <td>290</td>\n",
       "      <td>280</td>\n",
       "      <td>middle</td>\n",
       "    </tr>\n",
       "    <tr>\n",
       "      <th>40</th>\n",
       "      <td>Anna Nicoletti</td>\n",
       "      <td>193</td>\n",
       "      <td>86</td>\n",
       "      <td>306</td>\n",
       "      <td>290</td>\n",
       "      <td>opposite</td>\n",
       "    </tr>\n",
       "    <tr>\n",
       "      <th>50</th>\n",
       "      <td>Xiangyu Gong</td>\n",
       "      <td>186</td>\n",
       "      <td>72</td>\n",
       "      <td>313</td>\n",
       "      <td>302</td>\n",
       "      <td>opposite</td>\n",
       "    </tr>\n",
       "    <tr>\n",
       "      <th>60</th>\n",
       "      <td>Alessia Orro</td>\n",
       "      <td>180</td>\n",
       "      <td>74</td>\n",
       "      <td>308</td>\n",
       "      <td>231</td>\n",
       "      <td>setter</td>\n",
       "    </tr>\n",
       "    <tr>\n",
       "      <th>70</th>\n",
       "      <td>Thais Oliveira</td>\n",
       "      <td>172</td>\n",
       "      <td>69</td>\n",
       "      <td>275</td>\n",
       "      <td>272</td>\n",
       "      <td>setter</td>\n",
       "    </tr>\n",
       "    <tr>\n",
       "      <th>80</th>\n",
       "      <td>Dayana Rojas</td>\n",
       "      <td>160</td>\n",
       "      <td>55</td>\n",
       "      <td>178</td>\n",
       "      <td>180</td>\n",
       "      <td>wing</td>\n",
       "    </tr>\n",
       "    <tr>\n",
       "      <th>90</th>\n",
       "      <td>Humay Topaloglu</td>\n",
       "      <td>180</td>\n",
       "      <td>63</td>\n",
       "      <td>295</td>\n",
       "      <td>293</td>\n",
       "      <td>wing</td>\n",
       "    </tr>\n",
       "  </tbody>\n",
       "</table>\n",
       "</div>"
      ],
      "text/plain": [
       "                  name  height  weight  spike  block  position\n",
       "0   Kristina Kurnosova     176      62    288    278    libero\n",
       "10   Yomira Villacorta     164      61    265    250    libero\n",
       "20        Jovana Kocic     190      85    290    285    middle\n",
       "30     Elitsa Barakova     184      60    290    280    middle\n",
       "40      Anna Nicoletti     193      86    306    290  opposite\n",
       "50        Xiangyu Gong     186      72    313    302  opposite\n",
       "60        Alessia Orro     180      74    308    231    setter\n",
       "70      Thais Oliveira     172      69    275    272    setter\n",
       "80        Dayana Rojas     160      55    178    180      wing\n",
       "90     Humay Topaloglu     180      63    295    293      wing"
      ]
     },
     "execution_count": 44,
     "metadata": {},
     "output_type": "execute_result"
    }
   ],
   "source": [
    "#Call the function and we have a stratified proportionate sample of the dataframe\n",
    "stratDispropWVb = stratSample(wVb, 'position', 105, prop = False)\n",
    "stratDispropWVb[0::10]"
   ]
  },
  {
   "cell_type": "code",
   "execution_count": 45,
   "id": "7c90812c",
   "metadata": {},
   "outputs": [
    {
     "name": "stdout",
     "output_type": "stream",
     "text": [
      "Stratified disproportionate sample\n",
      "       height weight   spike   block\n",
      "count   98.00  98.00   98.00   98.00\n",
      "mean   180.48  68.39  286.32  275.14\n",
      "std      8.56   7.76   37.35   35.64\n",
      "min    153.00  52.00    0.00    0.00\n",
      "25%    175.00  63.00  285.00  275.00\n",
      "50%    182.00  69.00  293.00  283.00\n",
      "75%    186.00  72.00  303.50  290.00\n",
      "max    195.00  87.00  336.00  310.00\n",
      "population\n",
      "       height  weight   spike   block\n",
      "count  143.00  143.00  143.00  143.00\n",
      "mean   180.98   68.71  286.78  275.48\n",
      "std      8.26    7.38   35.22   33.44\n",
      "min    153.00   52.00    0.00    0.00\n",
      "25%    175.50   63.50  285.00  273.00\n",
      "50%    182.00   69.00  294.00  283.00\n",
      "75%    187.00   73.00  304.00  292.00\n",
      "max    199.00   87.00  336.00  310.00\n"
     ]
    }
   ],
   "source": [
    "print('Stratified disproportionate sample')\n",
    "print(stratDispropWVb.describe().applymap(lambda x: f'{x:.2f}'))\n",
    "print('population')\n",
    "print(wVb.describe().applymap(lambda x: f'{x:.2f}'))"
   ]
  },
  {
   "cell_type": "markdown",
   "id": "ffab0757",
   "metadata": {},
   "source": [
    "Even though it differs from the population indicators, it is close enough to satisfy our margin of error of 5%"
   ]
  },
  {
   "cell_type": "markdown",
   "id": "6a95d0fa",
   "metadata": {},
   "source": [
    "#### Stratified proportionate\n",
    "Random samples again, but size will be proportional to the size of the stratum with respect of population. For example, if the stratum libero represents 10% of the players, the sample size we pick from that stratum will be 10% of our total sample size."
   ]
  },
  {
   "cell_type": "code",
   "execution_count": 46,
   "id": "7a73b429",
   "metadata": {},
   "outputs": [
    {
     "data": {
      "text/html": [
       "<div>\n",
       "<style scoped>\n",
       "    .dataframe tbody tr th:only-of-type {\n",
       "        vertical-align: middle;\n",
       "    }\n",
       "\n",
       "    .dataframe tbody tr th {\n",
       "        vertical-align: top;\n",
       "    }\n",
       "\n",
       "    .dataframe thead th {\n",
       "        text-align: right;\n",
       "    }\n",
       "</style>\n",
       "<table border=\"1\" class=\"dataframe\">\n",
       "  <thead>\n",
       "    <tr style=\"text-align: right;\">\n",
       "      <th></th>\n",
       "      <th>name</th>\n",
       "      <th>height</th>\n",
       "      <th>weight</th>\n",
       "      <th>spike</th>\n",
       "      <th>block</th>\n",
       "      <th>position</th>\n",
       "    </tr>\n",
       "  </thead>\n",
       "  <tbody>\n",
       "    <tr>\n",
       "      <th>0</th>\n",
       "      <td>Lais Vasques</td>\n",
       "      <td>171</td>\n",
       "      <td>70</td>\n",
       "      <td>275</td>\n",
       "      <td>274</td>\n",
       "      <td>libero</td>\n",
       "    </tr>\n",
       "    <tr>\n",
       "      <th>1</th>\n",
       "      <td>Moeri Hanai</td>\n",
       "      <td>167</td>\n",
       "      <td>60</td>\n",
       "      <td>280</td>\n",
       "      <td>272</td>\n",
       "      <td>libero</td>\n",
       "    </tr>\n",
       "    <tr>\n",
       "      <th>2</th>\n",
       "      <td>Leslie Angélica Lopez Flores</td>\n",
       "      <td>169</td>\n",
       "      <td>78</td>\n",
       "      <td>198</td>\n",
       "      <td>190</td>\n",
       "      <td>libero</td>\n",
       "    </tr>\n",
       "    <tr>\n",
       "      <th>3</th>\n",
       "      <td>Yomira Villacorta</td>\n",
       "      <td>164</td>\n",
       "      <td>61</td>\n",
       "      <td>265</td>\n",
       "      <td>250</td>\n",
       "      <td>libero</td>\n",
       "    </tr>\n",
       "    <tr>\n",
       "      <th>4</th>\n",
       "      <td>Kristina Kurnosova</td>\n",
       "      <td>176</td>\n",
       "      <td>62</td>\n",
       "      <td>288</td>\n",
       "      <td>278</td>\n",
       "      <td>libero</td>\n",
       "    </tr>\n",
       "    <tr>\n",
       "      <th>...</th>\n",
       "      <td>...</td>\n",
       "      <td>...</td>\n",
       "      <td>...</td>\n",
       "      <td>...</td>\n",
       "      <td>...</td>\n",
       "      <td>...</td>\n",
       "    </tr>\n",
       "    <tr>\n",
       "      <th>103</th>\n",
       "      <td>Lana Conceição</td>\n",
       "      <td>175</td>\n",
       "      <td>72</td>\n",
       "      <td>292</td>\n",
       "      <td>281</td>\n",
       "      <td>wing</td>\n",
       "    </tr>\n",
       "    <tr>\n",
       "      <th>104</th>\n",
       "      <td>Qingqing Du</td>\n",
       "      <td>189</td>\n",
       "      <td>72</td>\n",
       "      <td>312</td>\n",
       "      <td>300</td>\n",
       "      <td>wing</td>\n",
       "    </tr>\n",
       "    <tr>\n",
       "      <th>105</th>\n",
       "      <td>Slavena Nikova</td>\n",
       "      <td>180</td>\n",
       "      <td>72</td>\n",
       "      <td>290</td>\n",
       "      <td>280</td>\n",
       "      <td>wing</td>\n",
       "    </tr>\n",
       "    <tr>\n",
       "      <th>106</th>\n",
       "      <td>Ada Germen</td>\n",
       "      <td>182</td>\n",
       "      <td>62</td>\n",
       "      <td>285</td>\n",
       "      <td>283</td>\n",
       "      <td>wing</td>\n",
       "    </tr>\n",
       "    <tr>\n",
       "      <th>107</th>\n",
       "      <td>Bojana Milenkovic</td>\n",
       "      <td>185</td>\n",
       "      <td>70</td>\n",
       "      <td>294</td>\n",
       "      <td>288</td>\n",
       "      <td>wing</td>\n",
       "    </tr>\n",
       "  </tbody>\n",
       "</table>\n",
       "<p>108 rows × 6 columns</p>\n",
       "</div>"
      ],
      "text/plain": [
       "                             name  height  weight  spike  block position\n",
       "0                    Lais Vasques     171      70    275    274   libero\n",
       "1                     Moeri Hanai     167      60    280    272   libero\n",
       "2    Leslie Angélica Lopez Flores     169      78    198    190   libero\n",
       "3               Yomira Villacorta     164      61    265    250   libero\n",
       "4              Kristina Kurnosova     176      62    288    278   libero\n",
       "..                            ...     ...     ...    ...    ...      ...\n",
       "103                Lana Conceição     175      72    292    281     wing\n",
       "104                   Qingqing Du     189      72    312    300     wing\n",
       "105                Slavena Nikova     180      72    290    280     wing\n",
       "106                    Ada Germen     182      62    285    283     wing\n",
       "107             Bojana Milenkovic     185      70    294    288     wing\n",
       "\n",
       "[108 rows x 6 columns]"
      ]
     },
     "execution_count": 46,
     "metadata": {},
     "output_type": "execute_result"
    }
   ],
   "source": [
    "stratPropWVb = stratSample(wVb, 'position', 105, prop = True)\n",
    "stratPropWVb"
   ]
  },
  {
   "cell_type": "code",
   "execution_count": 47,
   "id": "17a44ab4",
   "metadata": {},
   "outputs": [
    {
     "name": "stdout",
     "output_type": "stream",
     "text": [
      "Stratified proportionate sample\n",
      "       height  weight   spike   block\n",
      "count  108.00  108.00  108.00  108.00\n",
      "mean   180.89   68.61  284.94  273.58\n",
      "std      8.10    7.15   38.33   36.61\n",
      "min    160.00   52.00    0.00    0.00\n",
      "25%    175.00   63.00  284.50  271.50\n",
      "50%    182.00   69.50  292.50  282.00\n",
      "75%    186.00   73.00  304.00  290.25\n",
      "max    199.00   86.00  320.00  310.00\n",
      "population\n",
      "       height  weight   spike   block\n",
      "count  143.00  143.00  143.00  143.00\n",
      "mean   180.98   68.71  286.78  275.48\n",
      "std      8.26    7.38   35.22   33.44\n",
      "min    153.00   52.00    0.00    0.00\n",
      "25%    175.50   63.50  285.00  273.00\n",
      "50%    182.00   69.00  294.00  283.00\n",
      "75%    187.00   73.00  304.00  292.00\n",
      "max    199.00   87.00  336.00  310.00\n"
     ]
    }
   ],
   "source": [
    "print('Stratified proportionate sample')\n",
    "print(stratPropWVb.describe().applymap(lambda x: f'{x:.2f}'))\n",
    "print('population')\n",
    "print(wVb.describe().applymap(lambda x: f'{x:.2f}'))"
   ]
  },
  {
   "cell_type": "markdown",
   "id": "9efd6fd2",
   "metadata": {},
   "source": [
    "The indicators in this case seem to better represent the population."
   ]
  },
  {
   "cell_type": "markdown",
   "id": "f8673a71",
   "metadata": {},
   "source": [
    "### Smote\n",
    "Synthetic minority oversampling technique. If I understand correctly, the algorithm finds the k nearest neighbours to a given point in the minority sample (in our case, it could be the libero class). Then, from those k neighbours, it chooses one at random, and adds a new synthetic sample somewhere in the line that connects the feature sample and the chosen neighbour.\n",
    "For nearest neighbours, we will use the method sklearn.neighbors.NearestNeighbors(), and the rest will be done manually.\n",
    "First of all, let's build a random sample and detect the minority class."
   ]
  },
  {
   "cell_type": "code",
   "execution_count": 48,
   "id": "cdb8505f",
   "metadata": {},
   "outputs": [
    {
     "data": {
      "text/plain": [
       "position\n",
       "libero      12\n",
       "middle      22\n",
       "opposite    18\n",
       "setter      18\n",
       "wing        35\n",
       "dtype: int64"
      ]
     },
     "execution_count": 48,
     "metadata": {},
     "output_type": "execute_result"
    }
   ],
   "source": [
    "sample = wVb.sample(105)\n",
    "sample.groupby('position').size()"
   ]
  },
  {
   "cell_type": "markdown",
   "id": "11268b89",
   "metadata": {},
   "source": [
    "For the sake of readability, let's pick only the liberos and the middle blockers. These two classes are very distinct when it comes to height, spike heigth and block height. Also there are typically less liberos than mid blockers, the reason being that you can only have 1 libero in the court, but need two mid blockers. Also, since the libero is a defensive position, there are fewer people interested in playing as libero."
   ]
  },
  {
   "cell_type": "code",
   "execution_count": 49,
   "id": "cd5a0c0b",
   "metadata": {},
   "outputs": [],
   "source": [
    "midLib = sample[(sample['position'] == 'libero') | (sample['position'] == 'middle')]"
   ]
  },
  {
   "cell_type": "markdown",
   "id": "61a78d64",
   "metadata": {},
   "source": [
    "Now we have our majority class (mid blocker), and our minority class (libero), with their wieights and heights. Let's make a scatter plot."
   ]
  },
  {
   "cell_type": "code",
   "execution_count": 50,
   "id": "b58a3cbb",
   "metadata": {},
   "outputs": [
    {
     "data": {
      "image/png": "[encoded data removed]",
      "text/plain": [
       "<Figure size 720x360 with 1 Axes>"
      ]
     },
     "metadata": {
      "needs_background": "light"
     },
     "output_type": "display_data"
    }
   ],
   "source": [
    "fig, ax = plt.subplots(figsize = (10,5))\n",
    "\n",
    "sns.scatterplot(data = midLib, x = 'weight', y = 'height', hue = 'position', ax = ax)\n",
    "ax.set_title('Weight and height of mid blockers and liberos')\n",
    "ax.set_xlabel('weight (kg)')\n",
    "ax.set_ylabel('height (cm)')\n",
    "ax.grid(b = 'True')"
   ]
  },
  {
   "cell_type": "markdown",
   "id": "0583b323",
   "metadata": {},
   "source": [
    "Let's perform a SMOTE"
   ]
  },
  {
   "cell_type": "code",
   "execution_count": 51,
   "id": "e2baddcb",
   "metadata": {},
   "outputs": [
    {
     "data": {
      "text/plain": [
       "Index(['name', 'height', 'weight', 'spike', 'block', 'position'], dtype='object')"
      ]
     },
     "execution_count": 51,
     "metadata": {},
     "output_type": "execute_result"
    }
   ],
   "source": [
    "midLib.columns"
   ]
  },
  {
   "cell_type": "code",
   "execution_count": 53,
   "id": "fedf0239",
   "metadata": {},
   "outputs": [],
   "source": [
    "def getNeighbors(data, k):\n",
    "    #build the nearestneighbors object\n",
    "    neigh = ngb.NearestNeighbors(n_neighbors = k, algorithm = 'ball_tree').fit(data)\n",
    "    #Get the distances and the indices of neighbors.\n",
    "    rDistances, rIndices = neigh.kneighbors(liberoNumbers)\n",
    "    #The first index is the element itself. The frist distance is always 0., so let's drop them\n",
    "    return rIndices[1:]\n",
    "\n",
    "def mySmote(data, indices):\n",
    "    smoteList = []\n",
    "    for count, element in enumerate(indices):\n",
    "        #choose one of the 5 nearest neighbors, at random\n",
    "        chosen = np.random.randint(0,5)\n",
    "        #Get a factor that will later help build the synthetic subject\n",
    "        factor = np.random.random()\n",
    "        #Get the chosen neighbor from the nearest neighbors\n",
    "        index = indices[count, chosen]\n",
    "        #With both positions, construct a vector travelling from the subject to the chosen neighbor\n",
    "        vector = data.iloc[index,:] - data.iloc[count,:]\n",
    "        #Construct the newsubjet by multiplying the vector by the factor        \n",
    "        newpoint = data.iloc[count,:] + factor*vector\n",
    "        \n",
    "        smoteList.append(newpoint)\n",
    "    \n",
    "    return smoteList   "
   ]
  },
  {
   "cell_type": "code",
   "execution_count": 54,
   "id": "458d96c1",
   "metadata": {},
   "outputs": [
    {
     "name": "stderr",
     "output_type": "stream",
     "text": [
      "C:\\ProgramData\\Anaconda3\\lib\\site-packages\\pandas\\core\\frame.py:4908: SettingWithCopyWarning: \n",
      "A value is trying to be set on a copy of a slice from a DataFrame\n",
      "\n",
      "See the caveats in the documentation: https://pandas.pydata.org/pandas-docs/stable/user_guide/indexing.html#returning-a-view-versus-a-copy\n",
      "  errors=errors,\n"
     ]
    },
    {
     "data": {
      "text/html": [
       "<div>\n",
       "<style scoped>\n",
       "    .dataframe tbody tr th:only-of-type {\n",
       "        vertical-align: middle;\n",
       "    }\n",
       "\n",
       "    .dataframe tbody tr th {\n",
       "        vertical-align: top;\n",
       "    }\n",
       "\n",
       "    .dataframe thead th {\n",
       "        text-align: right;\n",
       "    }\n",
       "</style>\n",
       "<table border=\"1\" class=\"dataframe\">\n",
       "  <thead>\n",
       "    <tr style=\"text-align: right;\">\n",
       "      <th></th>\n",
       "      <th>height</th>\n",
       "      <th>weight</th>\n",
       "      <th>position</th>\n",
       "    </tr>\n",
       "  </thead>\n",
       "  <tbody>\n",
       "    <tr>\n",
       "      <th>0</th>\n",
       "      <td>176.000000</td>\n",
       "      <td>55.783470</td>\n",
       "      <td>libero</td>\n",
       "    </tr>\n",
       "    <tr>\n",
       "      <th>1</th>\n",
       "      <td>169.155887</td>\n",
       "      <td>74.570480</td>\n",
       "      <td>libero</td>\n",
       "    </tr>\n",
       "    <tr>\n",
       "      <th>2</th>\n",
       "      <td>165.208163</td>\n",
       "      <td>52.624489</td>\n",
       "      <td>libero</td>\n",
       "    </tr>\n",
       "    <tr>\n",
       "      <th>3</th>\n",
       "      <td>166.378703</td>\n",
       "      <td>53.378703</td>\n",
       "      <td>libero</td>\n",
       "    </tr>\n",
       "    <tr>\n",
       "      <th>4</th>\n",
       "      <td>172.605213</td>\n",
       "      <td>61.394787</td>\n",
       "      <td>libero</td>\n",
       "    </tr>\n",
       "    <tr>\n",
       "      <th>5</th>\n",
       "      <td>173.431647</td>\n",
       "      <td>59.431647</td>\n",
       "      <td>libero</td>\n",
       "    </tr>\n",
       "    <tr>\n",
       "      <th>6</th>\n",
       "      <td>173.554045</td>\n",
       "      <td>60.044596</td>\n",
       "      <td>libero</td>\n",
       "    </tr>\n",
       "    <tr>\n",
       "      <th>7</th>\n",
       "      <td>176.000000</td>\n",
       "      <td>61.011628</td>\n",
       "      <td>libero</td>\n",
       "    </tr>\n",
       "    <tr>\n",
       "      <th>8</th>\n",
       "      <td>174.828755</td>\n",
       "      <td>62.090006</td>\n",
       "      <td>libero</td>\n",
       "    </tr>\n",
       "    <tr>\n",
       "      <th>9</th>\n",
       "      <td>180.000000</td>\n",
       "      <td>62.545860</td>\n",
       "      <td>libero</td>\n",
       "    </tr>\n",
       "    <tr>\n",
       "      <th>10</th>\n",
       "      <td>177.215564</td>\n",
       "      <td>63.823346</td>\n",
       "      <td>libero</td>\n",
       "    </tr>\n",
       "  </tbody>\n",
       "</table>\n",
       "</div>"
      ],
      "text/plain": [
       "        height     weight position\n",
       "0   176.000000  55.783470   libero\n",
       "1   169.155887  74.570480   libero\n",
       "2   165.208163  52.624489   libero\n",
       "3   166.378703  53.378703   libero\n",
       "4   172.605213  61.394787   libero\n",
       "5   173.431647  59.431647   libero\n",
       "6   173.554045  60.044596   libero\n",
       "7   176.000000  61.011628   libero\n",
       "8   174.828755  62.090006   libero\n",
       "9   180.000000  62.545860   libero\n",
       "10  177.215564  63.823346   libero"
      ]
     },
     "execution_count": 54,
     "metadata": {},
     "output_type": "execute_result"
    }
   ],
   "source": [
    "#Create a dataframe with only the weights and heights.\n",
    "liberoNumbers = midLib[midLib['position'] == 'libero']\n",
    "liberoNumbers.drop(['spike', 'block', 'position', 'name'], axis = 1, inplace = True)\n",
    "\n",
    "#Get a matrix with the indices of the nearest neighbors for each subject. \n",
    "#First row is for subject 0, second for subject1...\n",
    "neighIndices = getNeighbors(liberoNumbers, 5)\n",
    "\n",
    "newData = pd.DataFrame(mySmote(liberoNumbers, neighIndices))\n",
    "newData['position'] = 'libero'\n",
    "newData"
   ]
  },
  {
   "cell_type": "markdown",
   "id": "e2afeb5f",
   "metadata": {},
   "source": [
    "Let's concatenate the two dataframes, and plot again"
   ]
  },
  {
   "cell_type": "code",
   "execution_count": 107,
   "id": "5aa5129d",
   "metadata": {},
   "outputs": [
    {
     "data": {
      "text/html": [
       "<div>\n",
       "<style scoped>\n",
       "    .dataframe tbody tr th:only-of-type {\n",
       "        vertical-align: middle;\n",
       "    }\n",
       "\n",
       "    .dataframe tbody tr th {\n",
       "        vertical-align: top;\n",
       "    }\n",
       "\n",
       "    .dataframe thead th {\n",
       "        text-align: right;\n",
       "    }\n",
       "</style>\n",
       "<table border=\"1\" class=\"dataframe\">\n",
       "  <thead>\n",
       "    <tr style=\"text-align: right;\">\n",
       "      <th></th>\n",
       "      <th>name</th>\n",
       "      <th>height</th>\n",
       "      <th>weight</th>\n",
       "      <th>spike</th>\n",
       "      <th>block</th>\n",
       "      <th>position</th>\n",
       "    </tr>\n",
       "  </thead>\n",
       "  <tbody>\n",
       "    <tr>\n",
       "      <th>40</th>\n",
       "      <td>NaN</td>\n",
       "      <td>173.554045</td>\n",
       "      <td>60.044596</td>\n",
       "      <td>NaN</td>\n",
       "      <td>NaN</td>\n",
       "      <td>libero</td>\n",
       "    </tr>\n",
       "    <tr>\n",
       "      <th>41</th>\n",
       "      <td>NaN</td>\n",
       "      <td>176.000000</td>\n",
       "      <td>61.011628</td>\n",
       "      <td>NaN</td>\n",
       "      <td>NaN</td>\n",
       "      <td>libero</td>\n",
       "    </tr>\n",
       "    <tr>\n",
       "      <th>42</th>\n",
       "      <td>NaN</td>\n",
       "      <td>174.828755</td>\n",
       "      <td>62.090006</td>\n",
       "      <td>NaN</td>\n",
       "      <td>NaN</td>\n",
       "      <td>libero</td>\n",
       "    </tr>\n",
       "    <tr>\n",
       "      <th>43</th>\n",
       "      <td>NaN</td>\n",
       "      <td>180.000000</td>\n",
       "      <td>62.545860</td>\n",
       "      <td>NaN</td>\n",
       "      <td>NaN</td>\n",
       "      <td>libero</td>\n",
       "    </tr>\n",
       "    <tr>\n",
       "      <th>44</th>\n",
       "      <td>NaN</td>\n",
       "      <td>177.215564</td>\n",
       "      <td>63.823346</td>\n",
       "      <td>NaN</td>\n",
       "      <td>NaN</td>\n",
       "      <td>libero</td>\n",
       "    </tr>\n",
       "  </tbody>\n",
       "</table>\n",
       "</div>"
      ],
      "text/plain": [
       "   name      height     weight  spike  block position\n",
       "40  NaN  173.554045  60.044596    NaN    NaN   libero\n",
       "41  NaN  176.000000  61.011628    NaN    NaN   libero\n",
       "42  NaN  174.828755  62.090006    NaN    NaN   libero\n",
       "43  NaN  180.000000  62.545860    NaN    NaN   libero\n",
       "44  NaN  177.215564  63.823346    NaN    NaN   libero"
      ]
     },
     "execution_count": 107,
     "metadata": {},
     "output_type": "execute_result"
    }
   ],
   "source": [
    "overSampled = pd.concat([midLib, newData], ignore_index = True)\n",
    "overSampled.tail()"
   ]
  },
  {
   "cell_type": "code",
   "execution_count": 95,
   "id": "91194f64",
   "metadata": {},
   "outputs": [],
   "source": [
    "def plotSmote(data, smoteData, suptitle):\n",
    "\n",
    "    fig, axs = plt.subplots(ncols = 2, figsize = (20,5))\n",
    "\n",
    "    flatAxs = axs.flatten()\n",
    "    sns.scatterplot(data = data, x = 'weight', y = 'height', hue = 'position', ax = flatAxs[0])\n",
    "    sns.scatterplot(data = smoteData, x = 'weight', y = 'height', hue = 'position', ax = flatAxs[1])\n",
    "\n",
    "    for count, ax in enumerate(flatAxs):\n",
    "        ax.grid(b = True)\n",
    "        ax.set_xlabel('weight(kg)')\n",
    "        ax.set_ylabel('height(cm)')\n",
    "\n",
    "        if count == 0:\n",
    "            ax.set_title('Original sample')\n",
    "        else:\n",
    "            ax.set_title('Synthetic oversampling with SMOTE')\n",
    "\n",
    "    fig.suptitle(suptitle)"
   ]
  },
  {
   "cell_type": "code",
   "execution_count": 97,
   "id": "81cafbeb",
   "metadata": {},
   "outputs": [
    {
     "data": {
      "image/png": "[encoded data removed]",
      "text/plain": [
       "<Figure size 1440x360 with 2 Axes>"
      ]
     },
     "metadata": {
      "needs_background": "light"
     },
     "output_type": "display_data"
    }
   ],
   "source": [
    "plotSmote(midLib, overSampled, 'Weight vs Height of liberos and mid blockers')"
   ]
  },
  {
   "cell_type": "markdown",
   "id": "f8b1a7b9",
   "metadata": {},
   "source": [
    "On the other hand, we have an already defined SMOTE technique in python from the package imblearn. Let's try it"
   ]
  },
  {
   "cell_type": "code",
   "execution_count": 100,
   "id": "6cfa9038",
   "metadata": {},
   "outputs": [],
   "source": [
    "import imblearn"
   ]
  },
  {
   "cell_type": "code",
   "execution_count": 101,
   "id": "86c76e12",
   "metadata": {},
   "outputs": [
    {
     "data": {
      "text/html": [
       "<div>\n",
       "<style scoped>\n",
       "    .dataframe tbody tr th:only-of-type {\n",
       "        vertical-align: middle;\n",
       "    }\n",
       "\n",
       "    .dataframe tbody tr th {\n",
       "        vertical-align: top;\n",
       "    }\n",
       "\n",
       "    .dataframe thead th {\n",
       "        text-align: right;\n",
       "    }\n",
       "</style>\n",
       "<table border=\"1\" class=\"dataframe\">\n",
       "  <thead>\n",
       "    <tr style=\"text-align: right;\">\n",
       "      <th></th>\n",
       "      <th>height</th>\n",
       "      <th>weight</th>\n",
       "      <th>position</th>\n",
       "      <th>bPosition</th>\n",
       "    </tr>\n",
       "  </thead>\n",
       "  <tbody>\n",
       "    <tr>\n",
       "      <th>3</th>\n",
       "      <td>176</td>\n",
       "      <td>62</td>\n",
       "      <td>libero</td>\n",
       "      <td>1</td>\n",
       "    </tr>\n",
       "    <tr>\n",
       "      <th>46</th>\n",
       "      <td>170</td>\n",
       "      <td>56</td>\n",
       "      <td>libero</td>\n",
       "      <td>1</td>\n",
       "    </tr>\n",
       "    <tr>\n",
       "      <th>66</th>\n",
       "      <td>199</td>\n",
       "      <td>85</td>\n",
       "      <td>middle</td>\n",
       "      <td>0</td>\n",
       "    </tr>\n",
       "    <tr>\n",
       "      <th>21</th>\n",
       "      <td>171</td>\n",
       "      <td>70</td>\n",
       "      <td>libero</td>\n",
       "      <td>1</td>\n",
       "    </tr>\n",
       "    <tr>\n",
       "      <th>132</th>\n",
       "      <td>165</td>\n",
       "      <td>52</td>\n",
       "      <td>libero</td>\n",
       "      <td>1</td>\n",
       "    </tr>\n",
       "  </tbody>\n",
       "</table>\n",
       "</div>"
      ],
      "text/plain": [
       "     height  weight position  bPosition\n",
       "3       176      62   libero          1\n",
       "46      170      56   libero          1\n",
       "66      199      85   middle          0\n",
       "21      171      70   libero          1\n",
       "132     165      52   libero          1"
      ]
     },
     "execution_count": 101,
     "metadata": {},
     "output_type": "execute_result"
    }
   ],
   "source": [
    "#drop the columns that do not contain either position or numbers\n",
    "midLibNumbers = midLib.drop(['spike', 'block', 'name'], axis = 1)\n",
    "#change the position to a binary value 1 for libero, 0 for mid blocker\n",
    "midLibNumbers['bPosition'] = [1 if x == 'libero' else 0 for x in midLibNumbers['position']]\n",
    "midLibNumbers.head()"
   ]
  },
  {
   "cell_type": "code",
   "execution_count": 102,
   "id": "f7f416d5",
   "metadata": {},
   "outputs": [
    {
     "data": {
      "text/html": [
       "<div>\n",
       "<style scoped>\n",
       "    .dataframe tbody tr th:only-of-type {\n",
       "        vertical-align: middle;\n",
       "    }\n",
       "\n",
       "    .dataframe tbody tr th {\n",
       "        vertical-align: top;\n",
       "    }\n",
       "\n",
       "    .dataframe thead th {\n",
       "        text-align: right;\n",
       "    }\n",
       "</style>\n",
       "<table border=\"1\" class=\"dataframe\">\n",
       "  <thead>\n",
       "    <tr style=\"text-align: right;\">\n",
       "      <th></th>\n",
       "      <th>height</th>\n",
       "      <th>weight</th>\n",
       "      <th>bPosition</th>\n",
       "    </tr>\n",
       "  </thead>\n",
       "  <tbody>\n",
       "    <tr>\n",
       "      <th>39</th>\n",
       "      <td>168</td>\n",
       "      <td>63</td>\n",
       "      <td>1</td>\n",
       "    </tr>\n",
       "    <tr>\n",
       "      <th>40</th>\n",
       "      <td>173</td>\n",
       "      <td>60</td>\n",
       "      <td>1</td>\n",
       "    </tr>\n",
       "    <tr>\n",
       "      <th>41</th>\n",
       "      <td>168</td>\n",
       "      <td>55</td>\n",
       "      <td>1</td>\n",
       "    </tr>\n",
       "    <tr>\n",
       "      <th>42</th>\n",
       "      <td>170</td>\n",
       "      <td>63</td>\n",
       "      <td>1</td>\n",
       "    </tr>\n",
       "    <tr>\n",
       "      <th>43</th>\n",
       "      <td>172</td>\n",
       "      <td>67</td>\n",
       "      <td>1</td>\n",
       "    </tr>\n",
       "  </tbody>\n",
       "</table>\n",
       "</div>"
      ],
      "text/plain": [
       "    height  weight  bPosition\n",
       "39     168      63          1\n",
       "40     173      60          1\n",
       "41     168      55          1\n",
       "42     170      63          1\n",
       "43     172      67          1"
      ]
     },
     "execution_count": 102,
     "metadata": {},
     "output_type": "execute_result"
    }
   ],
   "source": [
    "#drop the position column and then perform the SMOTE\n",
    "midLibNumbers.drop('position', axis = 1, inplace = True)\n",
    "smote = imblearn.over_sampling.SMOTE(sampling_strategy = 'minority')\n",
    "X_sm, y_sm = smote.fit_resample(midLibNumbers, midLibNumbers['bPosition'])\n",
    "X_sm.tail()"
   ]
  },
  {
   "cell_type": "markdown",
   "id": "a4c35bbb",
   "metadata": {},
   "source": [
    "To better plot, change the bPosition column back to position"
   ]
  },
  {
   "cell_type": "code",
   "execution_count": 103,
   "id": "88f105c2",
   "metadata": {},
   "outputs": [],
   "source": [
    "X_sm['position'] = ['libero' if x ==1 else 'middle' for x in X_sm['bPosition']]"
   ]
  },
  {
   "cell_type": "code",
   "execution_count": 104,
   "id": "d5297555",
   "metadata": {},
   "outputs": [
    {
     "data": {
      "text/html": [
       "<div>\n",
       "<style scoped>\n",
       "    .dataframe tbody tr th:only-of-type {\n",
       "        vertical-align: middle;\n",
       "    }\n",
       "\n",
       "    .dataframe tbody tr th {\n",
       "        vertical-align: top;\n",
       "    }\n",
       "\n",
       "    .dataframe thead th {\n",
       "        text-align: right;\n",
       "    }\n",
       "</style>\n",
       "<table border=\"1\" class=\"dataframe\">\n",
       "  <thead>\n",
       "    <tr style=\"text-align: right;\">\n",
       "      <th></th>\n",
       "      <th>height</th>\n",
       "      <th>weight</th>\n",
       "      <th>bPosition</th>\n",
       "      <th>position</th>\n",
       "    </tr>\n",
       "  </thead>\n",
       "  <tbody>\n",
       "    <tr>\n",
       "      <th>39</th>\n",
       "      <td>168</td>\n",
       "      <td>63</td>\n",
       "      <td>1</td>\n",
       "      <td>libero</td>\n",
       "    </tr>\n",
       "    <tr>\n",
       "      <th>40</th>\n",
       "      <td>173</td>\n",
       "      <td>60</td>\n",
       "      <td>1</td>\n",
       "      <td>libero</td>\n",
       "    </tr>\n",
       "    <tr>\n",
       "      <th>41</th>\n",
       "      <td>168</td>\n",
       "      <td>55</td>\n",
       "      <td>1</td>\n",
       "      <td>libero</td>\n",
       "    </tr>\n",
       "    <tr>\n",
       "      <th>42</th>\n",
       "      <td>170</td>\n",
       "      <td>63</td>\n",
       "      <td>1</td>\n",
       "      <td>libero</td>\n",
       "    </tr>\n",
       "    <tr>\n",
       "      <th>43</th>\n",
       "      <td>172</td>\n",
       "      <td>67</td>\n",
       "      <td>1</td>\n",
       "      <td>libero</td>\n",
       "    </tr>\n",
       "  </tbody>\n",
       "</table>\n",
       "</div>"
      ],
      "text/plain": [
       "    height  weight  bPosition position\n",
       "39     168      63          1   libero\n",
       "40     173      60          1   libero\n",
       "41     168      55          1   libero\n",
       "42     170      63          1   libero\n",
       "43     172      67          1   libero"
      ]
     },
     "execution_count": 104,
     "metadata": {},
     "output_type": "execute_result"
    }
   ],
   "source": [
    "X_sm.tail()"
   ]
  },
  {
   "cell_type": "code",
   "execution_count": 106,
   "id": "d2e81a63",
   "metadata": {},
   "outputs": [
    {
     "data": {
      "image/png": "[encoded data removed]",
      "text/plain": [
       "<Figure size 1440x360 with 2 Axes>"
      ]
     },
     "metadata": {
      "needs_background": "light"
     },
     "output_type": "display_data"
    },
    {
     "data": {
      "image/png": "[encoded data removed]",
      "text/plain": [
       "<Figure size 1440x360 with 2 Axes>"
      ]
     },
     "metadata": {
      "needs_background": "light"
     },
     "output_type": "display_data"
    }
   ],
   "source": [
    "plotSmote(midLib, X_sm, 'Weight vs Height of liberos and mid blockers. Predefined SMOTE of imblearn')\n",
    "plotSmote(midLib, overSampled, 'Weight vs Height of liberos and mid blockers. SMOTE function \"hand-built\"')"
   ]
  },
  {
   "cell_type": "markdown",
   "id": "3b8ad13a",
   "metadata": {},
   "source": [
    "### Exercici 3\n",
    "Continua amb el conjunt de dades de tema esportiu i genera una mostra utilitzant el mètode Reservoir sampling.\n",
    "\n",
    "Note: There are various forms of implementing this algorithm already written in the internet, but I find that all of them sort of define a ceiling number N explicitly. I will try and make a method that does not involve defining N."
   ]
  },
  {
   "cell_type": "markdown",
   "id": "7f536c1b",
   "metadata": {},
   "source": [
    "First, we need to assign an index, for each element in the database. Luckily, the DataFrame object of pandas, can be label based (most typically to select columns), or index based (most typically to select rows). Since each element of the DataFrame is a row, we can construct a list, containing all the indices in the DataFrame."
   ]
  },
  {
   "cell_type": "code",
   "execution_count": 113,
   "id": "7d8f6046",
   "metadata": {},
   "outputs": [
    {
     "data": {
      "text/plain": [
       "Int64Index([  0,   1,   2,   3,   4,   5,   6,   7,   8,   9,\n",
       "            ...\n",
       "            133, 134, 135, 136, 137, 138, 139, 140, 141, 143],\n",
       "           dtype='int64', length=143)"
      ]
     },
     "execution_count": 113,
     "metadata": {},
     "output_type": "execute_result"
    }
   ],
   "source": [
    "wVb.index"
   ]
  },
  {
   "cell_type": "markdown",
   "id": "13da1579",
   "metadata": {},
   "source": [
    "While we do not know the number of iterations (we don't know the length of the list), the number of iterations is fixed thanks to the list object having the methods \\_\\_iter__() \\_\\_next__() built in, so we can actually use a for each loop, instead of a while loop. In the list of indices, each index is indexed with itself (ie, index 107 in the DataFrame occupies the position 107 in the indices list). With this we can avoid enumerate. This approach is general, so the method can be reused in the future for other DataFrames. The algorithm was extracted from https://en.wikipedia.org/wiki/Reservoir_sampling. It is the Algorithm R. I could not wrap my head around algorithm L."
   ]
  },
  {
   "cell_type": "code",
   "execution_count": 170,
   "id": "e173d5b6",
   "metadata": {},
   "outputs": [],
   "source": [
    "def reservoirSampling(data, k):\n",
    "    wholeList = list(data.index)\n",
    "    \n",
    "    #empy output list\n",
    "    reserList = []\n",
    "    \n",
    "    for item in wholeList:\n",
    "        #Fill the first k positions of reserList\n",
    "        \n",
    "        if item < k:\n",
    "            reserList.append(item)\n",
    "            \n",
    "        # for item in position >= k\n",
    "        else:\n",
    "            #Generate a random number between 0 and its index. Since in our case index=item, we do not need\n",
    "            #to locate the item in the list\n",
    "            rInt = np.random.randint(0, item + 1)\n",
    "            #If the random number is less than k (falls inside the len range of our output list)\n",
    "            if rInt < k:\n",
    "                #replace the element in the output list with position rInt, with the item in the current iteration\n",
    "                reserList[rInt] = item\n",
    "    return data.iloc[reserList]"
   ]
  },
  {
   "cell_type": "markdown",
   "id": "52d2558e",
   "metadata": {},
   "source": [
    "So let's make a reservoir sample of 105 volleyball players."
   ]
  },
  {
   "cell_type": "code",
   "execution_count": 171,
   "id": "c92328ae",
   "metadata": {},
   "outputs": [
    {
     "data": {
      "text/html": [
       "<div>\n",
       "<style scoped>\n",
       "    .dataframe tbody tr th:only-of-type {\n",
       "        vertical-align: middle;\n",
       "    }\n",
       "\n",
       "    .dataframe tbody tr th {\n",
       "        vertical-align: top;\n",
       "    }\n",
       "\n",
       "    .dataframe thead th {\n",
       "        text-align: right;\n",
       "    }\n",
       "</style>\n",
       "<table border=\"1\" class=\"dataframe\">\n",
       "  <thead>\n",
       "    <tr style=\"text-align: right;\">\n",
       "      <th></th>\n",
       "      <th>name</th>\n",
       "      <th>height</th>\n",
       "      <th>weight</th>\n",
       "      <th>spike</th>\n",
       "      <th>block</th>\n",
       "      <th>position</th>\n",
       "    </tr>\n",
       "  </thead>\n",
       "  <tbody>\n",
       "    <tr>\n",
       "      <th>0</th>\n",
       "      <td>Angelina Lazarenko</td>\n",
       "      <td>193</td>\n",
       "      <td>80</td>\n",
       "      <td>320</td>\n",
       "      <td>305</td>\n",
       "      <td>middle</td>\n",
       "    </tr>\n",
       "    <tr>\n",
       "      <th>1</th>\n",
       "      <td>Svetlana Serbina</td>\n",
       "      <td>182</td>\n",
       "      <td>71</td>\n",
       "      <td>295</td>\n",
       "      <td>284</td>\n",
       "      <td>setter</td>\n",
       "    </tr>\n",
       "    <tr>\n",
       "      <th>2</th>\n",
       "      <td>Ekaterina Shkurikhina</td>\n",
       "      <td>190</td>\n",
       "      <td>72</td>\n",
       "      <td>306</td>\n",
       "      <td>296</td>\n",
       "      <td>wing</td>\n",
       "    </tr>\n",
       "    <tr>\n",
       "      <th>3</th>\n",
       "      <td>Kristina Kurnosova</td>\n",
       "      <td>176</td>\n",
       "      <td>62</td>\n",
       "      <td>288</td>\n",
       "      <td>278</td>\n",
       "      <td>libero</td>\n",
       "    </tr>\n",
       "    <tr>\n",
       "      <th>140</th>\n",
       "      <td>Cemre Janset Erkul</td>\n",
       "      <td>184</td>\n",
       "      <td>65</td>\n",
       "      <td>298</td>\n",
       "      <td>295</td>\n",
       "      <td>middle</td>\n",
       "    </tr>\n",
       "    <tr>\n",
       "      <th>...</th>\n",
       "      <td>...</td>\n",
       "      <td>...</td>\n",
       "      <td>...</td>\n",
       "      <td>...</td>\n",
       "      <td>...</td>\n",
       "      <td>...</td>\n",
       "    </tr>\n",
       "    <tr>\n",
       "      <th>100</th>\n",
       "      <td>Malak Badawy</td>\n",
       "      <td>175</td>\n",
       "      <td>64</td>\n",
       "      <td>273</td>\n",
       "      <td>289</td>\n",
       "      <td>opposite</td>\n",
       "    </tr>\n",
       "    <tr>\n",
       "      <th>111</th>\n",
       "      <td>Cristina Cuba</td>\n",
       "      <td>176</td>\n",
       "      <td>65</td>\n",
       "      <td>280</td>\n",
       "      <td>275</td>\n",
       "      <td>setter</td>\n",
       "    </tr>\n",
       "    <tr>\n",
       "      <th>102</th>\n",
       "      <td>Rahma Almohandes</td>\n",
       "      <td>175</td>\n",
       "      <td>63</td>\n",
       "      <td>277</td>\n",
       "      <td>265</td>\n",
       "      <td>wing</td>\n",
       "    </tr>\n",
       "    <tr>\n",
       "      <th>141</th>\n",
       "      <td>Arelya Karasoy</td>\n",
       "      <td>181</td>\n",
       "      <td>73</td>\n",
       "      <td>287</td>\n",
       "      <td>280</td>\n",
       "      <td>setter</td>\n",
       "    </tr>\n",
       "    <tr>\n",
       "      <th>109</th>\n",
       "      <td>Nair Canessa</td>\n",
       "      <td>185</td>\n",
       "      <td>70</td>\n",
       "      <td>295</td>\n",
       "      <td>298</td>\n",
       "      <td>middle</td>\n",
       "    </tr>\n",
       "  </tbody>\n",
       "</table>\n",
       "<p>105 rows × 6 columns</p>\n",
       "</div>"
      ],
      "text/plain": [
       "                      name  height  weight  spike  block  position\n",
       "0       Angelina Lazarenko     193      80    320    305    middle\n",
       "1         Svetlana Serbina     182      71    295    284    setter\n",
       "2    Ekaterina Shkurikhina     190      72    306    296      wing\n",
       "3       Kristina Kurnosova     176      62    288    278    libero\n",
       "140     Cemre Janset Erkul     184      65    298    295    middle\n",
       "..                     ...     ...     ...    ...    ...       ...\n",
       "100           Malak Badawy     175      64    273    289  opposite\n",
       "111          Cristina Cuba     176      65    280    275    setter\n",
       "102       Rahma Almohandes     175      63    277    265      wing\n",
       "141         Arelya Karasoy     181      73    287    280    setter\n",
       "109           Nair Canessa     185      70    295    298    middle\n",
       "\n",
       "[105 rows x 6 columns]"
      ]
     },
     "execution_count": 171,
     "metadata": {},
     "output_type": "execute_result"
    }
   ],
   "source": [
    "#To ensure we ware dealing with a list of indices as described, we can perform a reset_index to the dataframe\n",
    "reservoirSample = reservoirSampling(wVb.reset_index(drop = True), 105)\n",
    "reservoirSample"
   ]
  },
  {
   "cell_type": "code",
   "execution_count": 173,
   "id": "ed2f7ff1",
   "metadata": {},
   "outputs": [
    {
     "name": "stdout",
     "output_type": "stream",
     "text": [
      "       height  weight   spike   block\n",
      "count  105.00  105.00  105.00  105.00\n",
      "mean   181.19   68.62  285.85  275.74\n",
      "std      7.90    7.04   38.65   36.35\n",
      "min    160.00   52.00    0.00    0.00\n",
      "25%    175.00   63.00  285.00  275.00\n",
      "50%    182.00   69.00  294.00  284.00\n",
      "75%    187.00   72.00  304.00  295.00\n",
      "max    199.00   87.00  322.00  308.00\n",
      "       height  weight   spike   block\n",
      "count  143.00  143.00  143.00  143.00\n",
      "mean   180.98   68.71  286.78  275.48\n",
      "std      8.26    7.38   35.22   33.44\n",
      "min    153.00   52.00    0.00    0.00\n",
      "25%    175.50   63.50  285.00  273.00\n",
      "50%    182.00   69.00  294.00  283.00\n",
      "75%    187.00   73.00  304.00  292.00\n",
      "max    199.00   87.00  336.00  310.00\n"
     ]
    }
   ],
   "source": [
    "print(reservoirSample.describe().applymap(lambda x: f\"{x:0.2f}\"))\n",
    "print(wVb.describe().applymap(lambda x: f\"{x:0.2f}\"))"
   ]
  },
  {
   "cell_type": "markdown",
   "id": "81db7ef4",
   "metadata": {},
   "source": [
    "It is shown that even though the min and max values are somewhat different, the mean, std  and even the percentile values are consistent with the population ones."
   ]
  }
 ],
 "metadata": {
  "anaconda-cloud": {},
  "kernelspec": {
   "display_name": "Python 3 (ipykernel)",
   "language": "python",
   "name": "python3"
  },
  "language_info": {
   "codemirror_mode": {
    "name": "ipython",
    "version": 3
   },
   "file_extension": ".py",
   "mimetype": "text/x-python",
   "name": "python",
   "nbconvert_exporter": "python",
   "pygments_lexer": "ipython3",
   "version": "3.7.11"
  }
 },
 "nbformat": 4,
 "nbformat_minor": 5
}
